{
 "cells": [
  {
   "cell_type": "code",
   "execution_count": null,
   "id": "ef7e789f-e275-4168-a90c-3e5d82330015",
   "metadata": {},
   "outputs": [],
   "source": [
    "] activate ."
   ]
  },
  {
   "cell_type": "code",
   "execution_count": null,
   "id": "698a0abd-6df0-4f11-a9b0-5d6decb8cc42",
   "metadata": {},
   "outputs": [],
   "source": [
    "] st"
   ]
  },
  {
   "cell_type": "code",
   "execution_count": null,
   "id": "72c5b65e-b79b-42a1-b00d-9b8024e4a060",
   "metadata": {},
   "outputs": [],
   "source": []
  },
  {
   "cell_type": "code",
   "execution_count": null,
   "id": "43ec2a5b-a19a-48c3-8feb-264a7e3da8c2",
   "metadata": {},
   "outputs": [],
   "source": [
    "using StaticArrays, DifferentialEquations, ForwardDiff, Optimization, OptimizationOptimJL, Zygote, Plots"
   ]
  },
  {
   "cell_type": "code",
   "execution_count": null,
   "id": "ec342c44-42f2-4994-9793-62c72dcb3744",
   "metadata": {},
   "outputs": [],
   "source": [
    "function f(t, x, u)\n",
    "    return @SVector [x[2], u[1]]\n",
    "end"
   ]
  },
  {
   "cell_type": "code",
   "execution_count": null,
   "id": "e6218359-0453-4ecb-bafa-11d40e33f44d",
   "metadata": {},
   "outputs": [],
   "source": [
    "function l(x)\n",
    "    # l(x) >= 0 is the safe set\n",
    "    return 1.5 - x[1] \n",
    "end"
   ]
  },
  {
   "cell_type": "code",
   "execution_count": null,
   "id": "622ab3a7-d7c8-4fa6-9037-2cb3b19a6b8c",
   "metadata": {},
   "outputs": [],
   "source": [
    "function H(t, x, V, DxV) \n",
    "    u2 = @SVector [-1.0]\n",
    "    H2 = DxV' * f(t, x, u2)\n",
    "    γ = 1.0\n",
    "    return min(0, H2 + γ*V)\n",
    "    # return  H2 + γ*V\n",
    "end\n",
    "\n",
    "function DsH(t, x, V, DxV)\n",
    "    return ForwardDiff.gradient(s-> H(t, x, V, s), DxV)\n",
    "end\n",
    "\n",
    "\n",
    "\n",
    "function DxH(t, x, V, DxV)\n",
    "    return ForwardDiff.gradient(xx-> H(t, xx, V, DxV), x)\n",
    "end\n",
    "\n",
    "\n",
    "\n",
    "function DzH(t, x, V, DxV)\n",
    "    return ForwardDiff.derivative(z-> H(t, x, z, DxV), V)\n",
    "end"
   ]
  },
  {
   "cell_type": "code",
   "execution_count": null,
   "id": "55d5c6fa-a09e-41f4-8145-f83cb512eb58",
   "metadata": {},
   "outputs": [],
   "source": [
    "DsH(0.0, [1.0, 1.0], 1.0, [1.0, 1.0])"
   ]
  },
  {
   "cell_type": "code",
   "execution_count": null,
   "id": "52c2a8b2-731a-4691-a380-4a1bc51103f7",
   "metadata": {},
   "outputs": [],
   "source": [
    "DxH(0.0, [1.0, 1.0], 1.0, [1.0, 1.0])"
   ]
  },
  {
   "cell_type": "code",
   "execution_count": null,
   "id": "c9cec366-1e2d-4198-a83e-758aa65b223c",
   "metadata": {},
   "outputs": [],
   "source": [
    "DzH(0.0, [1.0, 1.0], 1.0, [1.0, 1.0])"
   ]
  },
  {
   "cell_type": "code",
   "execution_count": null,
   "id": "e025d71e-3c51-4479-969f-0b4892f9945f",
   "metadata": {},
   "outputs": [],
   "source": [
    "function characteristics_system!(D, X, params, t)\n",
    "    # decompose the system first\n",
    "    xinds = 1:2\n",
    "    sinds = 3:4\n",
    "    zind = 5\n",
    "    zinds = 5:5\n",
    "    \n",
    "    x = X[xinds]\n",
    "    s = X[sinds]\n",
    "    z = X[zind]\n",
    "\n",
    "    # update the values\n",
    "    D[xinds] = DsH(t, x, z, s)\n",
    "    D[sinds] = -DxH(t, x, z, s) - DzH(t, x, z, s) * s\n",
    "    D[zinds] .= s' * DsH(t, x, z, s) - H(t, x, z, s)\n",
    "    # @show D[5]\n",
    "    # @show H(t, x, z, s)\n",
    "    # @show s' * DsH(t, x, z, s)\n",
    "\n",
    "    return \n",
    "end\n",
    "    "
   ]
  },
  {
   "cell_type": "code",
   "execution_count": null,
   "id": "3b7b8422-1a74-4e85-aacc-1398a35367b2",
   "metadata": {},
   "outputs": [],
   "source": [
    "x0 = [1.0, 3.0]\n",
    "s0 = [1.0, 1.0]\n",
    "z0 = 0.0\n",
    "X0 = vcat(x0, s0, z0)\n",
    "D0 = similar(X0)"
   ]
  },
  {
   "cell_type": "code",
   "execution_count": null,
   "id": "9de0f673-98a1-4052-a7d3-0f11b19ab839",
   "metadata": {},
   "outputs": [],
   "source": [
    "characteristics_system!(D0, X0, nothing, 0.0)"
   ]
  },
  {
   "cell_type": "code",
   "execution_count": null,
   "id": "59576b97-2564-446e-9ab0-7cd803372433",
   "metadata": {},
   "outputs": [],
   "source": [
    "D0"
   ]
  },
  {
   "cell_type": "code",
   "execution_count": null,
   "id": "607eb6f2-1a94-4366-af27-810797588cb2",
   "metadata": {},
   "outputs": [],
   "source": [
    "# function objective(x0, s0; tspan=(0.0, 2.0))\n",
    "#     X0 = vcat(x0, s0, 0.0)\n",
    "#     prob = ODEProblem(characteristics_system!, X0, tspan)\n",
    "#     sol = solve(prob)\n",
    "#     # @show sol\n",
    "#     xend = sol.u[end][1:2]\n",
    "#     zend = sol.u[end][5]\n",
    "\n",
    "#     return sol, l(xend) + zend\n",
    "\n",
    "# end"
   ]
  },
  {
   "cell_type": "code",
   "execution_count": null,
   "id": "94eb5a4b-df50-4bf2-bde2-8f892aa70f15",
   "metadata": {},
   "outputs": [],
   "source": [
    "prob = ODEProblem(characteristics_system!, X0, (0.0, 2.0))"
   ]
  },
  {
   "cell_type": "code",
   "execution_count": null,
   "id": "3c1c971d-ac24-4acc-946d-ee21922cf72c",
   "metadata": {},
   "outputs": [],
   "source": [
    "function loss(p)\n",
    "    x0 = [1.0, 3.0]\n",
    "    p0 = p\n",
    "    z0 = 0.0\n",
    "    X0 = vcat(x0, p0, z0)\n",
    "\n",
    "    # resolve the problem\n",
    "    sol = solve(prob, Tsit5(), u0 = X0)\n",
    "\n",
    "    # extract solution\n",
    "    xend = sol.u[end][1:2]\n",
    "    zend = sol.u[end][5]\n",
    "    \n",
    "    loss = l(xend) + zend\n",
    "\n",
    "    return loss, sol\n",
    "end\n",
    "\n",
    "callback = function (p, l, pred)\n",
    "    display(l)\n",
    "    plt = plot(pred)\n",
    "    display(plt)\n",
    "    # Tell Optimization.solve to not halt the optimization. If return true, then\n",
    "    # optimization stops.\n",
    "    return false\n",
    "end\n",
    "\n",
    "  "
   ]
  },
  {
   "cell_type": "code",
   "execution_count": null,
   "id": "665997da-d0db-4480-8bc6-06a06b734843",
   "metadata": {},
   "outputs": [],
   "source": [
    "adtype = Optimization.AutoZygote()\n",
    "optf = Optimization.OptimizationFunction((x, p) -> loss(x), adtype)\n"
   ]
  },
  {
   "cell_type": "code",
   "execution_count": null,
   "id": "3bad9748-7b31-4910-9094-79c159de8385",
   "metadata": {},
   "outputs": [],
   "source": [
    "optprob = Optimization.OptimizationProblem(optf, [0.0, 0.0])"
   ]
  },
  {
   "cell_type": "code",
   "execution_count": null,
   "id": "15b1113b-0768-42ec-a111-be7433e0f310",
   "metadata": {},
   "outputs": [],
   "source": [
    "# Import a solver package and solve the optimization problem\n"
   ]
  },
  {
   "cell_type": "code",
   "execution_count": null,
   "id": "69283683-01c9-4fa9-be0e-bb054c60e639",
   "metadata": {},
   "outputs": [],
   "source": [
    "result_ode = Optimization.solve(optprob, NelderMead();\n",
    "    callback = callback,\n",
    "    maxiters = 100)  "
   ]
  },
  {
   "cell_type": "code",
   "execution_count": null,
   "id": "4a9ef247-b9c0-40de-b3ad-48edb8026522",
   "metadata": {},
   "outputs": [],
   "source": []
  },
  {
   "cell_type": "code",
   "execution_count": null,
   "id": "3b3eeadc-1510-42b7-ae81-b00992548f54",
   "metadata": {},
   "outputs": [],
   "source": []
  },
  {
   "cell_type": "code",
   "execution_count": null,
   "id": "8e4c0e58-de19-4bad-8182-4fae1b4cbdd1",
   "metadata": {},
   "outputs": [],
   "source": []
  },
  {
   "cell_type": "code",
   "execution_count": null,
   "id": "7dc4513a-c800-4dc5-a018-6981cee4e555",
   "metadata": {},
   "outputs": [],
   "source": [
    "sol, J = objective(x0, s0)"
   ]
  },
  {
   "cell_type": "code",
   "execution_count": null,
   "id": "cd0a839d-2d45-491c-a01b-28c11a0bad09",
   "metadata": {},
   "outputs": [],
   "source": [
    "J"
   ]
  },
  {
   "cell_type": "code",
   "execution_count": null,
   "id": "76862e1c-1fb9-46fc-b137-8fefb019d412",
   "metadata": {},
   "outputs": [],
   "source": [
    "sol"
   ]
  },
  {
   "cell_type": "code",
   "execution_count": null,
   "id": "1e61e5cb-ca39-4695-870d-51b08cf912ed",
   "metadata": {},
   "outputs": [],
   "source": []
  },
  {
   "cell_type": "code",
   "execution_count": null,
   "id": "f6924a1c-4215-4e4e-8bf1-8771e9033a48",
   "metadata": {},
   "outputs": [],
   "source": []
  },
  {
   "cell_type": "code",
   "execution_count": null,
   "id": "6f318d0c-3cc5-4c34-9d8b-8ed28dad856e",
   "metadata": {},
   "outputs": [],
   "source": []
  }
 ],
 "metadata": {
  "kernelspec": {
   "display_name": "Julia (16 threads) 1.10.0-beta3",
   "language": "julia",
   "name": "julia-_16-threads_-1.10"
  },
  "language_info": {
   "file_extension": ".jl",
   "mimetype": "application/julia",
   "name": "julia",
   "version": "1.10.0"
  }
 },
 "nbformat": 4,
 "nbformat_minor": 5
}
